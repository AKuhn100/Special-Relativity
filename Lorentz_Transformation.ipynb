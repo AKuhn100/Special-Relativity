{
 "cells": [
  {
   "cell_type": "code",
   "execution_count": 1,
   "id": "deb6988d-f3ab-4266-a2f2-c2ec374117cb",
   "metadata": {},
   "outputs": [
    {
     "name": "stdout",
     "output_type": "stream",
     "text": [
      "299792458.0\n",
      "179875474.79999998\n"
     ]
    }
   ],
   "source": [
    "# Constants\n",
    "c=(2.99792458e8)\n",
    "print(c)\n",
    "v = 0.6*c\n",
    "print(v)"
   ]
  },
  {
   "cell_type": "code",
   "execution_count": 2,
   "id": "dd285025-2cd4-4632-9141-3f806e596b3b",
   "metadata": {},
   "outputs": [
    {
     "data": {
      "text/plain": [
       "1.2499999999999998"
      ]
     },
     "execution_count": 2,
     "metadata": {},
     "output_type": "execute_result"
    }
   ],
   "source": [
    "# Gamma \n",
    "Gamma=(1-((v**2)/(c**2)))**(-1/2)\n",
    "Gamma"
   ]
  },
  {
   "cell_type": "code",
   "execution_count": 3,
   "id": "ac01a617-5872-42c1-b2ad-520a51a3836f",
   "metadata": {},
   "outputs": [
    {
     "name": "stdout",
     "output_type": "stream",
     "text": [
      "5.00346142797228e-09\n"
     ]
    }
   ],
   "source": [
    "# Coordinates\n",
    "x1Prime=2\n",
    "t1Prime=0\n",
    "x2Prime=0\n",
    "t2Prime=0\n",
    "\n",
    "x1=Gamma*(x1Prime+v*t1Prime)\n",
    "t1=Gamma*(((v*(x1Prime)/(c**2))+t1Prime))\n",
    "x2=Gamma*(x2Prime+v*t2Prime)\n",
    "t2=Gamma*(((v*(x2Prime)/(c**2))+t2Prime))\n",
    "\n",
    "# print(x1)\n",
    "# print(t1)\n",
    "# print(x2)\n",
    "# print(t2)\n",
    "print(t1-t2)\n"
   ]
  }
 ],
 "metadata": {
  "kernelspec": {
   "display_name": "Python 3 (ipykernel)",
   "language": "python",
   "name": "python3"
  },
  "language_info": {
   "codemirror_mode": {
    "name": "ipython",
    "version": 3
   },
   "file_extension": ".py",
   "mimetype": "text/x-python",
   "name": "python",
   "nbconvert_exporter": "python",
   "pygments_lexer": "ipython3",
   "version": "3.11.4"
  }
 },
 "nbformat": 4,
 "nbformat_minor": 5
}
