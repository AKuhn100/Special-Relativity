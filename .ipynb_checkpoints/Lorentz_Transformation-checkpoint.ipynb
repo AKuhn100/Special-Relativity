{
 "cells": [
  {
   "cell_type": "markdown",
   "id": "dfb56cc4",
   "metadata": {},
   "source": [
    "# Lorentz Gamma"
   ]
  },
  {
   "cell_type": "code",
   "execution_count": 96,
   "id": "616267e9",
   "metadata": {},
   "outputs": [
    {
     "name": "stdout",
     "output_type": "stream",
     "text": [
      "2997924580.0\n",
      "1798754748.0\n"
     ]
    }
   ],
   "source": [
    "# Constants\n",
    "c=(2.99792458*(10e8))\n",
    "print(c)\n",
    "v = 0.6*c\n",
    "print(v)"
   ]
  },
  {
   "cell_type": "code",
   "execution_count": 98,
   "id": "34584048",
   "metadata": {},
   "outputs": [
    {
     "data": {
      "text/plain": [
       "1.25"
      ]
     },
     "execution_count": 98,
     "metadata": {},
     "output_type": "execute_result"
    }
   ],
   "source": [
    "# Gamma \n",
    "Gamma=(1-((v**2)/(c**2)))**(-1/2)\n",
    "Gamma"
   ]
  },
  {
   "cell_type": "code",
   "execution_count": 103,
   "id": "9c15ffcd",
   "metadata": {},
   "outputs": [
    {
     "name": "stdout",
     "output_type": "stream",
     "text": [
      "5.003461427972281e-10\n"
     ]
    },
    {
     "data": {
      "text/plain": [
       "5.003461427972281e-10"
      ]
     },
     "execution_count": 103,
     "metadata": {},
     "output_type": "execute_result"
    }
   ],
   "source": [
    "# Coordinates\n",
    "x1Prime=2\n",
    "t1Prime=0\n",
    "x2Prime=0\n",
    "t2Prime=0\n",
    "\n",
    "x1=Gamma*(x1Prime+v*t1Prime)\n",
    "t1=Gamma*(((v*(x1Prime)/(c**2))+t1Prime))\n",
    "x2=Gamma*(x2Prime+v*t2Prime)\n",
    "t2=Gamma*(((v*(x2Prime)/(c**2))+t2Prime))\n",
    "\n",
    "# print(x1)\n",
    "# print(t1)\n",
    "# print(x2)\n",
    "# print(t2)\n",
    "print(t1-t2)\n",
    "\n",
    "y=1.25*((0.6*2)/c)\n",
    "y\n"
   ]
  }
 ],
 "metadata": {
  "kernelspec": {
   "display_name": "Python 3 (ipykernel)",
   "language": "python",
   "name": "python3"
  },
  "language_info": {
   "codemirror_mode": {
    "name": "ipython",
    "version": 3
   },
   "file_extension": ".py",
   "mimetype": "text/x-python",
   "name": "python",
   "nbconvert_exporter": "python",
   "pygments_lexer": "ipython3",
   "version": "3.11.4"
  }
 },
 "nbformat": 4,
 "nbformat_minor": 5
}
